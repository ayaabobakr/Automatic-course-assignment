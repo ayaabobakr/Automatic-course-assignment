{
 "cells": [
  {
   "cell_type": "code",
   "execution_count": 1,
   "metadata": {},
   "outputs": [],
   "source": [
    "def match(TAs, courses,pref,skill):\n",
    "    from collections import Counter\n",
    "    from copy import copy\n",
    "    \n",
    "    courses_available = {ta:courses for ta in TAs}\n",
    "    waiting_list = []\n",
    "    assigned = {}\n",
    "    count = 0\n",
    "    while len(waiting_list)<len(TAs):\n",
    "        for ta in TAs:\n",
    "            if ta not in waiting_list:\n",
    "                co = courses_available[ta]\n",
    "                best_choice = pref.loc[ta][pref.loc[ta].index.isin(co)].idxmin()\n",
    "                assigned[(ta, best_choice)]=(pref.loc[ta][best_choice],\n",
    "                                                 skill.loc[ta][best_choice])\n",
    "\n",
    "        \"\"\"\n",
    "            If one course has more than one assigning \n",
    "            it will choose the skilled option\n",
    "        \"\"\"\n",
    "        countt = Counter([key[1] for key in assigned.keys()])\n",
    "\n",
    "        for c in countt.keys():\n",
    "            if countt[c]>1:\n",
    "                to_drop = sorted({pair: assigned[pair] for pair in assigned.keys() \n",
    "                        if c in pair}.items(), \n",
    "                    key=lambda x: x[1][1])[1:]\n",
    "\n",
    "                for p_to_drop in to_drop:\n",
    "                    del assigned[p_to_drop[0]]\n",
    "                    cour = copy(courses_available[p_to_drop[0][0]])\n",
    "                    cour.remove(p_to_drop[0][1])\n",
    "                    courses_available[p_to_drop[0][0]] = cour\n",
    "        waiting_list = [t[0] for t in assigned.keys()]\n",
    "        count+=1\n",
    "    return(assigned)"
   ]
  },
  {
   "cell_type": "code",
   "execution_count": 2,
   "metadata": {},
   "outputs": [],
   "source": [
    "%matplotlib inline\n",
    "\n",
    "import matplotlib\n",
    "import matplotlib.pyplot as plt\n",
    "import time\n",
    "import pandas as pd"
   ]
  },
  {
   "cell_type": "code",
   "execution_count": 3,
   "metadata": {},
   "outputs": [],
   "source": [
    "# recording the time for various calls\n",
    "\n",
    "# Given data\n",
    "TAs=['Aya', 'Pola', 'Yasmin', 'Farah']\n",
    "Courses=['205','207','217','479']\n",
    "PrefRank=[[[2],[3],[1],[4]],[[3],[2],[4],[1]],[[2],[1],[4],[3]],[[4],[3],[2],[1]]]\n",
    "SkillRank=[[[1],[3],[2],[4]],[[1],[4],[2],[3]],[[3],[2],[1],[4]],[[1],[4],[2],[3]]]\n",
    "\n",
    "#empty lists and dataframes to append later\n",
    "tas = []\n",
    "pref1 = pd.DataFrame({})\n",
    "skill1 = pd.DataFrame({})\n",
    "times = []\n",
    "\n",
    "#each iteration the length of the array increases approaching the worst time complexity \n",
    "for i in range(0,len(TAs)):\n",
    "    # Append one TA each iteration\n",
    "    tas.append(TAs[i])\n",
    "\n",
    "    # create dataframe for each TA each iteration to be passed to the function each iteration\n",
    "    pref = pd.DataFrame({Courses[0]: PrefRank[i][0],Courses[1]: PrefRank[i][1],\n",
    "        Courses[2]: PrefRank[i][2],Courses[3]:PrefRank[i][3]})\n",
    "    skill = pd.DataFrame({Courses[0]: SkillRank[i][0],Courses[1]: SkillRank[i][1],\n",
    "        Courses[2]: SkillRank[i][2],Courses[3]: SkillRank[i][3]})\n",
    "\n",
    "    # append/concatinate on the original dataframe\n",
    "    pref1=pd.concat([pref1,pref])\n",
    "    skill1=pd.concat([skill1,skill])\n",
    "    pref1.index = tas\n",
    "    skill1.index = tas\n",
    "    # start time \n",
    "    start = time.perf_counter_ns()\n",
    "    # call the matching function\n",
    "    match(tas,Courses,pref1,skill1)\n",
    "    # end time\n",
    "    end = time.perf_counter_ns()\n",
    "    # append to the time list\n",
    "    times.append(end-start)"
   ]
  },
  {
   "cell_type": "code",
   "execution_count": 4,
   "metadata": {},
   "outputs": [
    {
     "data": {
      "image/png": "[encoded data removed]",
      "text/plain": [
       "<Figure size 432x288 with 1 Axes>"
      ]
     },
     "metadata": {
      "needs_background": "light"
     },
     "output_type": "display_data"
    }
   ],
   "source": [
    "# the code to plot the curve\n",
    "plt.plot(range(0,len(TAs)), times, label='Time Graph')\n",
    "plt.xlabel('Problem Size (length of TA list)')\n",
    "plt.ylabel('Time in nano seconds')\n",
    "plt.legend()\n",
    "plt.show()"
   ]
  }
 ],
 "metadata": {
  "interpreter": {
   "hash": "3efc384c294b49c19f14d8c35db19da6e1745822209d2d604d281b90cfd75519"
  },
  "kernelspec": {
   "display_name": "Python 3.10.2 64-bit",
   "language": "python",
   "name": "python3"
  },
  "language_info": {
   "codemirror_mode": {
    "name": "ipython",
    "version": 3
   },
   "file_extension": ".py",
   "mimetype": "text/x-python",
   "name": "python",
   "nbconvert_exporter": "python",
   "pygments_lexer": "ipython3",
   "version": "3.10.2"
  },
  "orig_nbformat": 4
 },
 "nbformat": 4,
 "nbformat_minor": 2
}
